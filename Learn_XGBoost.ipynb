{
 "cells": [
  {
   "cell_type": "code",
   "execution_count": 1,
   "metadata": {},
   "outputs": [],
   "source": [
    "import numpy as np\n",
    "import pandas as pd\n",
    "import matplotlib.pyplot as plt\n",
    "import seaborn as sns\n",
    "\n",
    "from sklearn.model_selection import train_test_split\n",
    "from sklearn.metrics import accuracy_score\n",
    "from sklearn.metrics import classification_report\n",
    "from sklearn.metrics import confusion_matrix"
   ]
  },
  {
   "cell_type": "code",
   "execution_count": 2,
   "metadata": {},
   "outputs": [],
   "source": [
    "diabetes = pd.read_csv(\"diabetes.csv\")"
   ]
  },
  {
   "cell_type": "code",
   "execution_count": 3,
   "metadata": {},
   "outputs": [
    {
     "data": {
      "text/html": [
       "<div>\n",
       "<style scoped>\n",
       "    .dataframe tbody tr th:only-of-type {\n",
       "        vertical-align: middle;\n",
       "    }\n",
       "\n",
       "    .dataframe tbody tr th {\n",
       "        vertical-align: top;\n",
       "    }\n",
       "\n",
       "    .dataframe thead th {\n",
       "        text-align: right;\n",
       "    }\n",
       "</style>\n",
       "<table border=\"1\" class=\"dataframe\">\n",
       "  <thead>\n",
       "    <tr style=\"text-align: right;\">\n",
       "      <th></th>\n",
       "      <th>Pregnancies</th>\n",
       "      <th>Glucose</th>\n",
       "      <th>BloodPressure</th>\n",
       "      <th>SkinThickness</th>\n",
       "      <th>Insulin</th>\n",
       "      <th>BMI</th>\n",
       "      <th>DiabetesPedigreeFunction</th>\n",
       "      <th>Age</th>\n",
       "      <th>Outcome</th>\n",
       "    </tr>\n",
       "  </thead>\n",
       "  <tbody>\n",
       "    <tr>\n",
       "      <th>0</th>\n",
       "      <td>6</td>\n",
       "      <td>148</td>\n",
       "      <td>72</td>\n",
       "      <td>35</td>\n",
       "      <td>0</td>\n",
       "      <td>33.6</td>\n",
       "      <td>0.627</td>\n",
       "      <td>50</td>\n",
       "      <td>1</td>\n",
       "    </tr>\n",
       "    <tr>\n",
       "      <th>1</th>\n",
       "      <td>1</td>\n",
       "      <td>85</td>\n",
       "      <td>66</td>\n",
       "      <td>29</td>\n",
       "      <td>0</td>\n",
       "      <td>26.6</td>\n",
       "      <td>0.351</td>\n",
       "      <td>31</td>\n",
       "      <td>0</td>\n",
       "    </tr>\n",
       "    <tr>\n",
       "      <th>2</th>\n",
       "      <td>8</td>\n",
       "      <td>183</td>\n",
       "      <td>64</td>\n",
       "      <td>0</td>\n",
       "      <td>0</td>\n",
       "      <td>23.3</td>\n",
       "      <td>0.672</td>\n",
       "      <td>32</td>\n",
       "      <td>1</td>\n",
       "    </tr>\n",
       "    <tr>\n",
       "      <th>3</th>\n",
       "      <td>1</td>\n",
       "      <td>89</td>\n",
       "      <td>66</td>\n",
       "      <td>23</td>\n",
       "      <td>94</td>\n",
       "      <td>28.1</td>\n",
       "      <td>0.167</td>\n",
       "      <td>21</td>\n",
       "      <td>0</td>\n",
       "    </tr>\n",
       "    <tr>\n",
       "      <th>4</th>\n",
       "      <td>0</td>\n",
       "      <td>137</td>\n",
       "      <td>40</td>\n",
       "      <td>35</td>\n",
       "      <td>168</td>\n",
       "      <td>43.1</td>\n",
       "      <td>2.288</td>\n",
       "      <td>33</td>\n",
       "      <td>1</td>\n",
       "    </tr>\n",
       "  </tbody>\n",
       "</table>\n",
       "</div>"
      ],
      "text/plain": [
       "   Pregnancies  Glucose  BloodPressure  SkinThickness  Insulin   BMI  \\\n",
       "0            6      148             72             35        0  33.6   \n",
       "1            1       85             66             29        0  26.6   \n",
       "2            8      183             64              0        0  23.3   \n",
       "3            1       89             66             23       94  28.1   \n",
       "4            0      137             40             35      168  43.1   \n",
       "\n",
       "   DiabetesPedigreeFunction  Age  Outcome  \n",
       "0                     0.627   50        1  \n",
       "1                     0.351   31        0  \n",
       "2                     0.672   32        1  \n",
       "3                     0.167   21        0  \n",
       "4                     2.288   33        1  "
      ]
     },
     "execution_count": 3,
     "metadata": {},
     "output_type": "execute_result"
    }
   ],
   "source": [
    "diabetes.head()"
   ]
  },
  {
   "cell_type": "code",
   "execution_count": 4,
   "metadata": {},
   "outputs": [
    {
     "data": {
      "text/plain": [
       "<bound method DataFrame.info of      Pregnancies  Glucose  BloodPressure  SkinThickness  Insulin   BMI  \\\n",
       "0              6      148             72             35        0  33.6   \n",
       "1              1       85             66             29        0  26.6   \n",
       "2              8      183             64              0        0  23.3   \n",
       "3              1       89             66             23       94  28.1   \n",
       "4              0      137             40             35      168  43.1   \n",
       "5              5      116             74              0        0  25.6   \n",
       "6              3       78             50             32       88  31.0   \n",
       "7             10      115              0              0        0  35.3   \n",
       "8              2      197             70             45      543  30.5   \n",
       "9              8      125             96              0        0   0.0   \n",
       "10             4      110             92              0        0  37.6   \n",
       "11            10      168             74              0        0  38.0   \n",
       "12            10      139             80              0        0  27.1   \n",
       "13             1      189             60             23      846  30.1   \n",
       "14             5      166             72             19      175  25.8   \n",
       "15             7      100              0              0        0  30.0   \n",
       "16             0      118             84             47      230  45.8   \n",
       "17             7      107             74              0        0  29.6   \n",
       "18             1      103             30             38       83  43.3   \n",
       "19             1      115             70             30       96  34.6   \n",
       "20             3      126             88             41      235  39.3   \n",
       "21             8       99             84              0        0  35.4   \n",
       "22             7      196             90              0        0  39.8   \n",
       "23             9      119             80             35        0  29.0   \n",
       "24            11      143             94             33      146  36.6   \n",
       "25            10      125             70             26      115  31.1   \n",
       "26             7      147             76              0        0  39.4   \n",
       "27             1       97             66             15      140  23.2   \n",
       "28            13      145             82             19      110  22.2   \n",
       "29             5      117             92              0        0  34.1   \n",
       "..           ...      ...            ...            ...      ...   ...   \n",
       "738            2       99             60             17      160  36.6   \n",
       "739            1      102             74              0        0  39.5   \n",
       "740           11      120             80             37      150  42.3   \n",
       "741            3      102             44             20       94  30.8   \n",
       "742            1      109             58             18      116  28.5   \n",
       "743            9      140             94              0        0  32.7   \n",
       "744           13      153             88             37      140  40.6   \n",
       "745           12      100             84             33      105  30.0   \n",
       "746            1      147             94             41        0  49.3   \n",
       "747            1       81             74             41       57  46.3   \n",
       "748            3      187             70             22      200  36.4   \n",
       "749            6      162             62              0        0  24.3   \n",
       "750            4      136             70              0        0  31.2   \n",
       "751            1      121             78             39       74  39.0   \n",
       "752            3      108             62             24        0  26.0   \n",
       "753            0      181             88             44      510  43.3   \n",
       "754            8      154             78             32        0  32.4   \n",
       "755            1      128             88             39      110  36.5   \n",
       "756            7      137             90             41        0  32.0   \n",
       "757            0      123             72              0        0  36.3   \n",
       "758            1      106             76              0        0  37.5   \n",
       "759            6      190             92              0        0  35.5   \n",
       "760            2       88             58             26       16  28.4   \n",
       "761            9      170             74             31        0  44.0   \n",
       "762            9       89             62              0        0  22.5   \n",
       "763           10      101             76             48      180  32.9   \n",
       "764            2      122             70             27        0  36.8   \n",
       "765            5      121             72             23      112  26.2   \n",
       "766            1      126             60              0        0  30.1   \n",
       "767            1       93             70             31        0  30.4   \n",
       "\n",
       "     DiabetesPedigreeFunction  Age  Outcome  \n",
       "0                       0.627   50        1  \n",
       "1                       0.351   31        0  \n",
       "2                       0.672   32        1  \n",
       "3                       0.167   21        0  \n",
       "4                       2.288   33        1  \n",
       "5                       0.201   30        0  \n",
       "6                       0.248   26        1  \n",
       "7                       0.134   29        0  \n",
       "8                       0.158   53        1  \n",
       "9                       0.232   54        1  \n",
       "10                      0.191   30        0  \n",
       "11                      0.537   34        1  \n",
       "12                      1.441   57        0  \n",
       "13                      0.398   59        1  \n",
       "14                      0.587   51        1  \n",
       "15                      0.484   32        1  \n",
       "16                      0.551   31        1  \n",
       "17                      0.254   31        1  \n",
       "18                      0.183   33        0  \n",
       "19                      0.529   32        1  \n",
       "20                      0.704   27        0  \n",
       "21                      0.388   50        0  \n",
       "22                      0.451   41        1  \n",
       "23                      0.263   29        1  \n",
       "24                      0.254   51        1  \n",
       "25                      0.205   41        1  \n",
       "26                      0.257   43        1  \n",
       "27                      0.487   22        0  \n",
       "28                      0.245   57        0  \n",
       "29                      0.337   38        0  \n",
       "..                        ...  ...      ...  \n",
       "738                     0.453   21        0  \n",
       "739                     0.293   42        1  \n",
       "740                     0.785   48        1  \n",
       "741                     0.400   26        0  \n",
       "742                     0.219   22        0  \n",
       "743                     0.734   45        1  \n",
       "744                     1.174   39        0  \n",
       "745                     0.488   46        0  \n",
       "746                     0.358   27        1  \n",
       "747                     1.096   32        0  \n",
       "748                     0.408   36        1  \n",
       "749                     0.178   50        1  \n",
       "750                     1.182   22        1  \n",
       "751                     0.261   28        0  \n",
       "752                     0.223   25        0  \n",
       "753                     0.222   26        1  \n",
       "754                     0.443   45        1  \n",
       "755                     1.057   37        1  \n",
       "756                     0.391   39        0  \n",
       "757                     0.258   52        1  \n",
       "758                     0.197   26        0  \n",
       "759                     0.278   66        1  \n",
       "760                     0.766   22        0  \n",
       "761                     0.403   43        1  \n",
       "762                     0.142   33        0  \n",
       "763                     0.171   63        0  \n",
       "764                     0.340   27        0  \n",
       "765                     0.245   30        0  \n",
       "766                     0.349   47        1  \n",
       "767                     0.315   23        0  \n",
       "\n",
       "[768 rows x 9 columns]>"
      ]
     },
     "execution_count": 4,
     "metadata": {},
     "output_type": "execute_result"
    }
   ],
   "source": [
    "diabetes.info"
   ]
  },
  {
   "cell_type": "code",
   "execution_count": 5,
   "metadata": {},
   "outputs": [
    {
     "data": {
      "text/html": [
       "<div>\n",
       "<style scoped>\n",
       "    .dataframe tbody tr th:only-of-type {\n",
       "        vertical-align: middle;\n",
       "    }\n",
       "\n",
       "    .dataframe tbody tr th {\n",
       "        vertical-align: top;\n",
       "    }\n",
       "\n",
       "    .dataframe thead th {\n",
       "        text-align: right;\n",
       "    }\n",
       "</style>\n",
       "<table border=\"1\" class=\"dataframe\">\n",
       "  <thead>\n",
       "    <tr style=\"text-align: right;\">\n",
       "      <th></th>\n",
       "      <th>Pregnancies</th>\n",
       "      <th>Glucose</th>\n",
       "      <th>BloodPressure</th>\n",
       "      <th>SkinThickness</th>\n",
       "      <th>Insulin</th>\n",
       "      <th>BMI</th>\n",
       "      <th>DiabetesPedigreeFunction</th>\n",
       "      <th>Age</th>\n",
       "      <th>Outcome</th>\n",
       "    </tr>\n",
       "  </thead>\n",
       "  <tbody>\n",
       "    <tr>\n",
       "      <th>count</th>\n",
       "      <td>768.000000</td>\n",
       "      <td>768.000000</td>\n",
       "      <td>768.000000</td>\n",
       "      <td>768.000000</td>\n",
       "      <td>768.000000</td>\n",
       "      <td>768.000000</td>\n",
       "      <td>768.000000</td>\n",
       "      <td>768.000000</td>\n",
       "      <td>768.000000</td>\n",
       "    </tr>\n",
       "    <tr>\n",
       "      <th>mean</th>\n",
       "      <td>3.845052</td>\n",
       "      <td>120.894531</td>\n",
       "      <td>69.105469</td>\n",
       "      <td>20.536458</td>\n",
       "      <td>79.799479</td>\n",
       "      <td>31.992578</td>\n",
       "      <td>0.471876</td>\n",
       "      <td>33.240885</td>\n",
       "      <td>0.348958</td>\n",
       "    </tr>\n",
       "    <tr>\n",
       "      <th>std</th>\n",
       "      <td>3.369578</td>\n",
       "      <td>31.972618</td>\n",
       "      <td>19.355807</td>\n",
       "      <td>15.952218</td>\n",
       "      <td>115.244002</td>\n",
       "      <td>7.884160</td>\n",
       "      <td>0.331329</td>\n",
       "      <td>11.760232</td>\n",
       "      <td>0.476951</td>\n",
       "    </tr>\n",
       "    <tr>\n",
       "      <th>min</th>\n",
       "      <td>0.000000</td>\n",
       "      <td>0.000000</td>\n",
       "      <td>0.000000</td>\n",
       "      <td>0.000000</td>\n",
       "      <td>0.000000</td>\n",
       "      <td>0.000000</td>\n",
       "      <td>0.078000</td>\n",
       "      <td>21.000000</td>\n",
       "      <td>0.000000</td>\n",
       "    </tr>\n",
       "    <tr>\n",
       "      <th>25%</th>\n",
       "      <td>1.000000</td>\n",
       "      <td>99.000000</td>\n",
       "      <td>62.000000</td>\n",
       "      <td>0.000000</td>\n",
       "      <td>0.000000</td>\n",
       "      <td>27.300000</td>\n",
       "      <td>0.243750</td>\n",
       "      <td>24.000000</td>\n",
       "      <td>0.000000</td>\n",
       "    </tr>\n",
       "    <tr>\n",
       "      <th>50%</th>\n",
       "      <td>3.000000</td>\n",
       "      <td>117.000000</td>\n",
       "      <td>72.000000</td>\n",
       "      <td>23.000000</td>\n",
       "      <td>30.500000</td>\n",
       "      <td>32.000000</td>\n",
       "      <td>0.372500</td>\n",
       "      <td>29.000000</td>\n",
       "      <td>0.000000</td>\n",
       "    </tr>\n",
       "    <tr>\n",
       "      <th>75%</th>\n",
       "      <td>6.000000</td>\n",
       "      <td>140.250000</td>\n",
       "      <td>80.000000</td>\n",
       "      <td>32.000000</td>\n",
       "      <td>127.250000</td>\n",
       "      <td>36.600000</td>\n",
       "      <td>0.626250</td>\n",
       "      <td>41.000000</td>\n",
       "      <td>1.000000</td>\n",
       "    </tr>\n",
       "    <tr>\n",
       "      <th>max</th>\n",
       "      <td>17.000000</td>\n",
       "      <td>199.000000</td>\n",
       "      <td>122.000000</td>\n",
       "      <td>99.000000</td>\n",
       "      <td>846.000000</td>\n",
       "      <td>67.100000</td>\n",
       "      <td>2.420000</td>\n",
       "      <td>81.000000</td>\n",
       "      <td>1.000000</td>\n",
       "    </tr>\n",
       "  </tbody>\n",
       "</table>\n",
       "</div>"
      ],
      "text/plain": [
       "       Pregnancies     Glucose  BloodPressure  SkinThickness     Insulin  \\\n",
       "count   768.000000  768.000000     768.000000     768.000000  768.000000   \n",
       "mean      3.845052  120.894531      69.105469      20.536458   79.799479   \n",
       "std       3.369578   31.972618      19.355807      15.952218  115.244002   \n",
       "min       0.000000    0.000000       0.000000       0.000000    0.000000   \n",
       "25%       1.000000   99.000000      62.000000       0.000000    0.000000   \n",
       "50%       3.000000  117.000000      72.000000      23.000000   30.500000   \n",
       "75%       6.000000  140.250000      80.000000      32.000000  127.250000   \n",
       "max      17.000000  199.000000     122.000000      99.000000  846.000000   \n",
       "\n",
       "              BMI  DiabetesPedigreeFunction         Age     Outcome  \n",
       "count  768.000000                768.000000  768.000000  768.000000  \n",
       "mean    31.992578                  0.471876   33.240885    0.348958  \n",
       "std      7.884160                  0.331329   11.760232    0.476951  \n",
       "min      0.000000                  0.078000   21.000000    0.000000  \n",
       "25%     27.300000                  0.243750   24.000000    0.000000  \n",
       "50%     32.000000                  0.372500   29.000000    0.000000  \n",
       "75%     36.600000                  0.626250   41.000000    1.000000  \n",
       "max     67.100000                  2.420000   81.000000    1.000000  "
      ]
     },
     "execution_count": 5,
     "metadata": {},
     "output_type": "execute_result"
    }
   ],
   "source": [
    "diabetes.describe()"
   ]
  },
  {
   "cell_type": "code",
   "execution_count": 6,
   "metadata": {},
   "outputs": [
    {
     "data": {
      "text/plain": [
       "Pregnancies                 0\n",
       "Glucose                     0\n",
       "BloodPressure               0\n",
       "SkinThickness               0\n",
       "Insulin                     0\n",
       "BMI                         0\n",
       "DiabetesPedigreeFunction    0\n",
       "Age                         0\n",
       "Outcome                     0\n",
       "dtype: int64"
      ]
     },
     "execution_count": 6,
     "metadata": {},
     "output_type": "execute_result"
    }
   ],
   "source": [
    "diabetes.isnull().sum()"
   ]
  },
  {
   "cell_type": "code",
   "execution_count": 7,
   "metadata": {},
   "outputs": [],
   "source": [
    "train_X, test_X, train_y, test_y = train_test_split(diabetes.drop(\"Outcome\", axis=1), diabetes.Outcome, test_size = 0.2, random_state = 100)"
   ]
  },
  {
   "cell_type": "code",
   "execution_count": 8,
   "metadata": {},
   "outputs": [
    {
     "name": "stdout",
     "output_type": "stream",
     "text": [
      "(614, 8) (614,) (154, 8) (154,)\n"
     ]
    }
   ],
   "source": [
    "print(train_X.shape, train_y.shape, test_X.shape, test_y.shape)"
   ]
  },
  {
   "cell_type": "code",
   "execution_count": 9,
   "metadata": {},
   "outputs": [],
   "source": [
    "from sklearn.ensemble import GradientBoostingClassifier, RandomForestClassifier"
   ]
  },
  {
   "cell_type": "code",
   "execution_count": 10,
   "metadata": {},
   "outputs": [
    {
     "name": "stdout",
     "output_type": "stream",
     "text": [
      "{'n_estimators': [200, 294, 389, 484, 578, 673, 768, 863, 957, 1052, 1147, 1242, 1336, 1431, 1526, 1621, 1715, 1810, 1905, 2000], 'learning_rate': [0.01, 0.05, 0.1, 0.5], 'max_features': ['auto', 'sqrt'], 'max_depth': [2, 10, None], 'min_samples_split': [2, 5, 10], 'min_samples_leaf': [1, 2, 4]}\n"
     ]
    }
   ],
   "source": [
    "from sklearn.model_selection import RandomizedSearchCV\n",
    "# Number of trees in random forest\n",
    "n_estimators = [int(x) for x in np.linspace(start = 200, stop = 2000, num = 20)]\n",
    "# Learning rate\n",
    "learning_rate = [0.01, 0.05, 0.1, 0.5]\n",
    "# Number of features to consider at every split\n",
    "max_features = ['auto', 'sqrt']\n",
    "# Maximum number of levels in tree\n",
    "max_depth = [int(x) for x in np.linspace(2, 10, num = 2)]\n",
    "max_depth.append(None)\n",
    "# Minimum number of samples required to split a node\n",
    "min_samples_split = [2, 5, 10]\n",
    "# Minimum number of samples required at each leaf node\n",
    "min_samples_leaf = [1, 2, 4]\n",
    "# Create the random grid\n",
    "random_grid = {'n_estimators': n_estimators,\n",
    "               'learning_rate': learning_rate,\n",
    "               'max_features': max_features,\n",
    "               'max_depth': max_depth,\n",
    "               'min_samples_split': min_samples_split,\n",
    "               'min_samples_leaf': min_samples_leaf}\n",
    "print(random_grid)"
   ]
  },
  {
   "cell_type": "code",
   "execution_count": 11,
   "metadata": {},
   "outputs": [],
   "source": [
    "gbm = GradientBoostingClassifier()\n",
    "gbm_random = RandomizedSearchCV(estimator = gbm, param_distributions = random_grid, n_iter = 20, cv = 2, verbose=1)"
   ]
  },
  {
   "cell_type": "code",
   "execution_count": 12,
   "metadata": {},
   "outputs": [
    {
     "name": "stdout",
     "output_type": "stream",
     "text": [
      "Fitting 2 folds for each of 20 candidates, totalling 40 fits\n"
     ]
    },
    {
     "name": "stderr",
     "output_type": "stream",
     "text": [
      "[Parallel(n_jobs=1)]: Using backend SequentialBackend with 1 concurrent workers.\n",
      "[Parallel(n_jobs=1)]: Done  40 out of  40 | elapsed:   21.0s finished\n"
     ]
    },
    {
     "data": {
      "text/plain": [
       "RandomizedSearchCV(cv=2, error_score='raise-deprecating',\n",
       "                   estimator=GradientBoostingClassifier(criterion='friedman_mse',\n",
       "                                                        init=None,\n",
       "                                                        learning_rate=0.1,\n",
       "                                                        loss='deviance',\n",
       "                                                        max_depth=3,\n",
       "                                                        max_features=None,\n",
       "                                                        max_leaf_nodes=None,\n",
       "                                                        min_impurity_decrease=0.0,\n",
       "                                                        min_impurity_split=None,\n",
       "                                                        min_samples_leaf=1,\n",
       "                                                        min_samples_split=2,\n",
       "                                                        min_weight_fraction_leaf=0.0,\n",
       "                                                        n_estimators=100,\n",
       "                                                        n_i...\n",
       "                   param_distributions={'learning_rate': [0.01, 0.05, 0.1, 0.5],\n",
       "                                        'max_depth': [2, 10, None],\n",
       "                                        'max_features': ['auto', 'sqrt'],\n",
       "                                        'min_samples_leaf': [1, 2, 4],\n",
       "                                        'min_samples_split': [2, 5, 10],\n",
       "                                        'n_estimators': [200, 294, 389, 484,\n",
       "                                                         578, 673, 768, 863,\n",
       "                                                         957, 1052, 1147, 1242,\n",
       "                                                         1336, 1431, 1526, 1621,\n",
       "                                                         1715, 1810, 1905,\n",
       "                                                         2000]},\n",
       "                   pre_dispatch='2*n_jobs', random_state=None, refit=True,\n",
       "                   return_train_score=False, scoring=None, verbose=1)"
      ]
     },
     "execution_count": 12,
     "metadata": {},
     "output_type": "execute_result"
    }
   ],
   "source": [
    "# Fit the random search model\n",
    "gbm_random.fit(train_X, train_y)"
   ]
  },
  {
   "cell_type": "code",
   "execution_count": 13,
   "metadata": {},
   "outputs": [
    {
     "data": {
      "text/plain": [
       "0.7817589576547231"
      ]
     },
     "execution_count": 13,
     "metadata": {},
     "output_type": "execute_result"
    }
   ],
   "source": [
    "gbm_random.best_score_"
   ]
  },
  {
   "cell_type": "code",
   "execution_count": 79,
   "metadata": {},
   "outputs": [
    {
     "data": {
      "text/plain": [
       "GradientBoostingClassifier(criterion='friedman_mse', init=None,\n",
       "                           learning_rate=0.05, loss='deviance', max_depth=2,\n",
       "                           max_features='sqrt', max_leaf_nodes=None,\n",
       "                           min_impurity_decrease=0.0, min_impurity_split=None,\n",
       "                           min_samples_leaf=4, min_samples_split=10,\n",
       "                           min_weight_fraction_leaf=0.0, n_estimators=294,\n",
       "                           n_iter_no_change=None, presort='auto',\n",
       "                           random_state=None, subsample=1.0, tol=0.0001,\n",
       "                           validation_fraction=0.1, verbose=0,\n",
       "                           warm_start=False)"
      ]
     },
     "execution_count": 79,
     "metadata": {},
     "output_type": "execute_result"
    }
   ],
   "source": [
    "gbm_random.best_estimator_"
   ]
  },
  {
   "cell_type": "code",
   "execution_count": 78,
   "metadata": {},
   "outputs": [
    {
     "data": {
      "text/plain": [
       "array([0.05074595, 0.41799277, 0.02082936, 0.02907047, 0.05984097,\n",
       "       0.16057193, 0.09146435, 0.1694842 ])"
      ]
     },
     "execution_count": 78,
     "metadata": {},
     "output_type": "execute_result"
    }
   ],
   "source": [
    "gbm_random.best_estimator_.feature_importances_"
   ]
  },
  {
   "cell_type": "code",
   "execution_count": 14,
   "metadata": {},
   "outputs": [],
   "source": [
    "pred_test_gbm = gbm_random.predict(test_X)"
   ]
  },
  {
   "cell_type": "code",
   "execution_count": 15,
   "metadata": {},
   "outputs": [
    {
     "name": "stdout",
     "output_type": "stream",
     "text": [
      "              precision    recall  f1-score   support\n",
      "\n",
      "           0       0.78      0.86      0.82       101\n",
      "           1       0.67      0.53      0.59        53\n",
      "\n",
      "    accuracy                           0.75       154\n",
      "   macro avg       0.72      0.69      0.70       154\n",
      "weighted avg       0.74      0.75      0.74       154\n",
      "\n"
     ]
    }
   ],
   "source": [
    "from sklearn.metrics import classification_report\n",
    "print(classification_report(test_y,pred_test_gbm))"
   ]
  },
  {
   "cell_type": "code",
   "execution_count": 16,
   "metadata": {},
   "outputs": [
    {
     "name": "stdout",
     "output_type": "stream",
     "text": [
      "{'n_estimators': [200, 294, 389, 484, 578, 673, 768, 863, 957, 1052, 1147, 1242, 1336, 1431, 1526, 1621, 1715, 1810, 1905, 2000], 'max_features': ['auto', 'sqrt'], 'max_depth': [2, 10, None], 'min_samples_split': [2, 5, 10], 'min_samples_leaf': [1, 2, 4], 'bootstrap': [True, False]}\n"
     ]
    }
   ],
   "source": [
    "from sklearn.model_selection import RandomizedSearchCV\n",
    "# Number of trees in random forest\n",
    "n_estimators = [int(x) for x in np.linspace(start = 200, stop = 2000, num = 20)]\n",
    "# Number of features to consider at every split\n",
    "max_features = ['auto', 'sqrt']\n",
    "# Maximum number of levels in tree\n",
    "max_depth = [int(x) for x in np.linspace(2, 10, num = 2)]\n",
    "max_depth.append(None)\n",
    "# Minimum number of samples required to split a node\n",
    "min_samples_split = [2, 5, 10]\n",
    "# Minimum number of samples required at each leaf node\n",
    "min_samples_leaf = [1, 2, 4]\n",
    "# Method of selecting samples for training each tree\n",
    "bootstrap = [True, False]\n",
    "# Create the random grid\n",
    "random_grid = {'n_estimators': n_estimators,\n",
    "               'max_features': max_features,\n",
    "               'max_depth': max_depth,\n",
    "               'min_samples_split': min_samples_split,\n",
    "               'min_samples_leaf': min_samples_leaf,\n",
    "               'bootstrap': bootstrap}\n",
    "print(random_grid)"
   ]
  },
  {
   "cell_type": "code",
   "execution_count": 17,
   "metadata": {},
   "outputs": [],
   "source": [
    "rf = RandomForestClassifier()\n",
    "rf_random = RandomizedSearchCV(estimator = rf, \n",
    "                               param_distributions = random_grid, \n",
    "                               n_iter = 100, \n",
    "                               cv = 2, \n",
    "                               verbose = 1, \n",
    "                               random_state =42, \n",
    "                               n_jobs = -1)"
   ]
  },
  {
   "cell_type": "code",
   "execution_count": 18,
   "metadata": {},
   "outputs": [
    {
     "name": "stdout",
     "output_type": "stream",
     "text": [
      "Fitting 2 folds for each of 100 candidates, totalling 200 fits\n"
     ]
    },
    {
     "name": "stderr",
     "output_type": "stream",
     "text": [
      "[Parallel(n_jobs=-1)]: Using backend LokyBackend with 4 concurrent workers.\n",
      "[Parallel(n_jobs=-1)]: Done  42 tasks      | elapsed:   19.9s\n",
      "[Parallel(n_jobs=-1)]: Done 192 tasks      | elapsed:  1.4min\n",
      "[Parallel(n_jobs=-1)]: Done 200 out of 200 | elapsed:  1.4min finished\n"
     ]
    },
    {
     "data": {
      "text/plain": [
       "RandomizedSearchCV(cv=2, error_score='raise-deprecating',\n",
       "                   estimator=RandomForestClassifier(bootstrap=True,\n",
       "                                                    class_weight=None,\n",
       "                                                    criterion='gini',\n",
       "                                                    max_depth=None,\n",
       "                                                    max_features='auto',\n",
       "                                                    max_leaf_nodes=None,\n",
       "                                                    min_impurity_decrease=0.0,\n",
       "                                                    min_impurity_split=None,\n",
       "                                                    min_samples_leaf=1,\n",
       "                                                    min_samples_split=2,\n",
       "                                                    min_weight_fraction_leaf=0.0,\n",
       "                                                    n_estimators='warn',\n",
       "                                                    n_jobs=None,\n",
       "                                                    oob_sc...\n",
       "                   param_distributions={'bootstrap': [True, False],\n",
       "                                        'max_depth': [2, 10, None],\n",
       "                                        'max_features': ['auto', 'sqrt'],\n",
       "                                        'min_samples_leaf': [1, 2, 4],\n",
       "                                        'min_samples_split': [2, 5, 10],\n",
       "                                        'n_estimators': [200, 294, 389, 484,\n",
       "                                                         578, 673, 768, 863,\n",
       "                                                         957, 1052, 1147, 1242,\n",
       "                                                         1336, 1431, 1526, 1621,\n",
       "                                                         1715, 1810, 1905,\n",
       "                                                         2000]},\n",
       "                   pre_dispatch='2*n_jobs', random_state=42, refit=True,\n",
       "                   return_train_score=False, scoring=None, verbose=1)"
      ]
     },
     "execution_count": 18,
     "metadata": {},
     "output_type": "execute_result"
    }
   ],
   "source": [
    "# Fit the random search model\n",
    "rf_random.fit(train_X,train_y)"
   ]
  },
  {
   "cell_type": "code",
   "execution_count": 19,
   "metadata": {},
   "outputs": [
    {
     "data": {
      "text/plain": [
       "0.7833876221498371"
      ]
     },
     "execution_count": 19,
     "metadata": {},
     "output_type": "execute_result"
    }
   ],
   "source": [
    "rf_random.best_score_"
   ]
  },
  {
   "cell_type": "code",
   "execution_count": 20,
   "metadata": {},
   "outputs": [],
   "source": [
    "pred_test_rf = rf_random.predict(test_X)"
   ]
  },
  {
   "cell_type": "code",
   "execution_count": 21,
   "metadata": {},
   "outputs": [
    {
     "name": "stdout",
     "output_type": "stream",
     "text": [
      "              precision    recall  f1-score   support\n",
      "\n",
      "           0       0.76      0.83      0.80       101\n",
      "           1       0.61      0.51      0.56        53\n",
      "\n",
      "    accuracy                           0.72       154\n",
      "   macro avg       0.69      0.67      0.68       154\n",
      "weighted avg       0.71      0.72      0.71       154\n",
      "\n"
     ]
    }
   ],
   "source": [
    "from sklearn.metrics import classification_report\n",
    "print(classification_report(test_y,pred_test_rf))"
   ]
  },
  {
   "cell_type": "markdown",
   "metadata": {},
   "source": [
    "## Let's build a XGBoost Model"
   ]
  },
  {
   "cell_type": "code",
   "execution_count": 53,
   "metadata": {},
   "outputs": [],
   "source": [
    "from xgboost import XGBClassifier"
   ]
  },
  {
   "cell_type": "code",
   "execution_count": 67,
   "metadata": {},
   "outputs": [
    {
     "name": "stdout",
     "output_type": "stream",
     "text": [
      "{'n_estimators': [500, 700, 1000, 1500], 'learning_rate': [0.001, 0.005, 0.01, 0.05], 'subsample': [0.3, 0.5, 0.7, 0.9], 'max_depth': [3, 4, 5, 6, 7, 8, 9], 'colsample_bytree': [0.5, 0.6, 0.7, 0.9], 'min_child_weight': [1, 2, 3, 4], 'gamma': [0, 0.25, 0.5, 1.0], 'reg_alpha': [0.01, 0.05, 0.1, 0.5], 'reg_lambda': [0.01, 0.05, 0.1, 0.5]}\n"
     ]
    }
   ],
   "source": [
    "from sklearn.model_selection import RandomizedSearchCV, GridSearchCV\n",
    "\n",
    "random_grid = {'n_estimators': [500, 700, 1000, 1500],\n",
    "              'learning_rate': [0.001, 0.005, 0.01, 0.05],\n",
    "              'subsample': [0.3, 0.5, 0.7, 0.9],\n",
    "              'max_depth': [3, 4, 5, 6, 7, 8, 9],\n",
    "              'colsample_bytree': [0.5, 0.6, 0.7, 0.9],\n",
    "              'min_child_weight': [1, 2, 3, 4],\n",
    "              'gamma': [0, 0.25, 0.5, 1.0],\n",
    "              'reg_alpha': [0.01, 0.05, 0.1, 0.5],\n",
    "              'reg_lambda': [0.01, 0.05, 0.1, 0.5],\n",
    "             }\n",
    "print(random_grid)"
   ]
  },
  {
   "cell_type": "code",
   "execution_count": 71,
   "metadata": {},
   "outputs": [],
   "source": [
    "xgb = XGBClassifier(objective = 'binary:logistic')\n",
    "xgb_random = RandomizedSearchCV(estimator = xgb, param_distributions= random_grid, \n",
    "                                n_jobs = -1, verbose = 1, n_iter = 1000, cv = 2)"
   ]
  },
  {
   "cell_type": "code",
   "execution_count": 72,
   "metadata": {},
   "outputs": [
    {
     "name": "stdout",
     "output_type": "stream",
     "text": [
      "Fitting 2 folds for each of 1000 candidates, totalling 2000 fits\n"
     ]
    },
    {
     "name": "stderr",
     "output_type": "stream",
     "text": [
      "[Parallel(n_jobs=-1)]: Using backend LokyBackend with 4 concurrent workers.\n",
      "[Parallel(n_jobs=-1)]: Done  42 tasks      | elapsed:   11.9s\n",
      "[Parallel(n_jobs=-1)]: Done 192 tasks      | elapsed:   43.6s\n",
      "[Parallel(n_jobs=-1)]: Done 442 tasks      | elapsed:  1.6min\n",
      "[Parallel(n_jobs=-1)]: Done 792 tasks      | elapsed:  3.0min\n",
      "[Parallel(n_jobs=-1)]: Done 1242 tasks      | elapsed:  4.7min\n",
      "[Parallel(n_jobs=-1)]: Done 1792 tasks      | elapsed:  6.8min\n"
     ]
    },
    {
     "name": "stdout",
     "output_type": "stream",
     "text": [
      "[0]\tvalidation_0-error:0.266234\n",
      "[1]\tvalidation_0-error:0.266234\n",
      "[2]\tvalidation_0-error:0.318182\n",
      "[3]\tvalidation_0-error:0.305195\n",
      "[4]\tvalidation_0-error:0.285714\n",
      "[5]\tvalidation_0-error:0.318182\n",
      "[6]\tvalidation_0-error:0.305195\n",
      "[7]\tvalidation_0-error:0.298701\n",
      "[8]\tvalidation_0-error:0.292208\n",
      "[9]\tvalidation_0-error:0.285714\n",
      "[10]\tvalidation_0-error:0.285714\n",
      "[11]\tvalidation_0-error:0.305195\n",
      "[12]\tvalidation_0-error:0.292208\n",
      "[13]\tvalidation_0-error:0.285714\n",
      "[14]\tvalidation_0-error:0.279221\n",
      "[15]\tvalidation_0-error:0.279221\n",
      "[16]\tvalidation_0-error:0.298701\n",
      "[17]\tvalidation_0-error:0.305195\n",
      "[18]\tvalidation_0-error:0.305195\n",
      "[19]\tvalidation_0-error:0.292208\n",
      "[20]\tvalidation_0-error:0.298701\n",
      "[21]\tvalidation_0-error:0.305195\n",
      "[22]\tvalidation_0-error:0.305195\n",
      "[23]\tvalidation_0-error:0.298701\n",
      "[24]\tvalidation_0-error:0.292208\n",
      "[25]\tvalidation_0-error:0.298701\n",
      "[26]\tvalidation_0-error:0.305195\n",
      "[27]\tvalidation_0-error:0.305195\n",
      "[28]\tvalidation_0-error:0.298701\n",
      "[29]\tvalidation_0-error:0.292208\n",
      "[30]\tvalidation_0-error:0.298701\n",
      "[31]\tvalidation_0-error:0.298701\n",
      "[32]\tvalidation_0-error:0.292208\n",
      "[33]\tvalidation_0-error:0.305195\n",
      "[34]\tvalidation_0-error:0.305195\n",
      "[35]\tvalidation_0-error:0.298701\n",
      "[36]\tvalidation_0-error:0.298701\n",
      "[37]\tvalidation_0-error:0.298701\n",
      "[38]\tvalidation_0-error:0.305195\n",
      "[39]\tvalidation_0-error:0.305195\n",
      "[40]\tvalidation_0-error:0.298701\n",
      "[41]\tvalidation_0-error:0.292208\n",
      "[42]\tvalidation_0-error:0.292208\n",
      "[43]\tvalidation_0-error:0.292208\n",
      "[44]\tvalidation_0-error:0.292208\n",
      "[45]\tvalidation_0-error:0.292208\n",
      "[46]\tvalidation_0-error:0.292208\n",
      "[47]\tvalidation_0-error:0.279221\n",
      "[48]\tvalidation_0-error:0.285714\n",
      "[49]\tvalidation_0-error:0.292208\n",
      "[50]\tvalidation_0-error:0.285714\n",
      "[51]\tvalidation_0-error:0.292208\n",
      "[52]\tvalidation_0-error:0.292208\n",
      "[53]\tvalidation_0-error:0.292208\n",
      "[54]\tvalidation_0-error:0.292208\n",
      "[55]\tvalidation_0-error:0.292208\n",
      "[56]\tvalidation_0-error:0.292208\n",
      "[57]\tvalidation_0-error:0.285714\n",
      "[58]\tvalidation_0-error:0.285714\n",
      "[59]\tvalidation_0-error:0.285714\n",
      "[60]\tvalidation_0-error:0.285714\n",
      "[61]\tvalidation_0-error:0.279221\n",
      "[62]\tvalidation_0-error:0.285714\n",
      "[63]\tvalidation_0-error:0.285714\n",
      "[64]\tvalidation_0-error:0.285714\n",
      "[65]\tvalidation_0-error:0.285714\n",
      "[66]\tvalidation_0-error:0.285714\n",
      "[67]\tvalidation_0-error:0.285714\n",
      "[68]\tvalidation_0-error:0.285714\n",
      "[69]\tvalidation_0-error:0.285714\n",
      "[70]\tvalidation_0-error:0.285714\n",
      "[71]\tvalidation_0-error:0.285714\n",
      "[72]\tvalidation_0-error:0.292208\n",
      "[73]\tvalidation_0-error:0.292208\n",
      "[74]\tvalidation_0-error:0.292208\n",
      "[75]\tvalidation_0-error:0.279221\n",
      "[76]\tvalidation_0-error:0.285714\n",
      "[77]\tvalidation_0-error:0.285714\n",
      "[78]\tvalidation_0-error:0.279221\n",
      "[79]\tvalidation_0-error:0.285714\n",
      "[80]\tvalidation_0-error:0.285714\n",
      "[81]\tvalidation_0-error:0.285714\n",
      "[82]\tvalidation_0-error:0.285714\n"
     ]
    },
    {
     "name": "stderr",
     "output_type": "stream",
     "text": [
      "[Parallel(n_jobs=-1)]: Done 2000 out of 2000 | elapsed:  7.7min finished\n"
     ]
    },
    {
     "name": "stdout",
     "output_type": "stream",
     "text": [
      "[83]\tvalidation_0-error:0.285714\n",
      "[84]\tvalidation_0-error:0.285714\n",
      "[85]\tvalidation_0-error:0.285714\n",
      "[86]\tvalidation_0-error:0.285714\n",
      "[87]\tvalidation_0-error:0.285714\n",
      "[88]\tvalidation_0-error:0.285714\n",
      "[89]\tvalidation_0-error:0.285714\n",
      "[90]\tvalidation_0-error:0.285714\n",
      "[91]\tvalidation_0-error:0.285714\n",
      "[92]\tvalidation_0-error:0.279221\n",
      "[93]\tvalidation_0-error:0.285714\n",
      "[94]\tvalidation_0-error:0.285714\n",
      "[95]\tvalidation_0-error:0.285714\n",
      "[96]\tvalidation_0-error:0.285714\n",
      "[97]\tvalidation_0-error:0.279221\n",
      "[98]\tvalidation_0-error:0.279221\n",
      "[99]\tvalidation_0-error:0.279221\n",
      "[100]\tvalidation_0-error:0.279221\n",
      "[101]\tvalidation_0-error:0.279221\n",
      "[102]\tvalidation_0-error:0.272727\n",
      "[103]\tvalidation_0-error:0.272727\n",
      "[104]\tvalidation_0-error:0.272727\n",
      "[105]\tvalidation_0-error:0.272727\n",
      "[106]\tvalidation_0-error:0.272727\n",
      "[107]\tvalidation_0-error:0.272727\n",
      "[108]\tvalidation_0-error:0.272727\n",
      "[109]\tvalidation_0-error:0.272727\n",
      "[110]\tvalidation_0-error:0.272727\n",
      "[111]\tvalidation_0-error:0.272727\n",
      "[112]\tvalidation_0-error:0.272727\n",
      "[113]\tvalidation_0-error:0.272727\n",
      "[114]\tvalidation_0-error:0.272727\n",
      "[115]\tvalidation_0-error:0.272727\n",
      "[116]\tvalidation_0-error:0.272727\n",
      "[117]\tvalidation_0-error:0.272727\n",
      "[118]\tvalidation_0-error:0.272727\n",
      "[119]\tvalidation_0-error:0.272727\n",
      "[120]\tvalidation_0-error:0.272727\n",
      "[121]\tvalidation_0-error:0.272727\n",
      "[122]\tvalidation_0-error:0.272727\n",
      "[123]\tvalidation_0-error:0.272727\n",
      "[124]\tvalidation_0-error:0.272727\n",
      "[125]\tvalidation_0-error:0.272727\n",
      "[126]\tvalidation_0-error:0.272727\n",
      "[127]\tvalidation_0-error:0.272727\n",
      "[128]\tvalidation_0-error:0.272727\n",
      "[129]\tvalidation_0-error:0.272727\n",
      "[130]\tvalidation_0-error:0.272727\n",
      "[131]\tvalidation_0-error:0.272727\n",
      "[132]\tvalidation_0-error:0.272727\n",
      "[133]\tvalidation_0-error:0.272727\n",
      "[134]\tvalidation_0-error:0.272727\n",
      "[135]\tvalidation_0-error:0.272727\n",
      "[136]\tvalidation_0-error:0.272727\n",
      "[137]\tvalidation_0-error:0.272727\n",
      "[138]\tvalidation_0-error:0.272727\n",
      "[139]\tvalidation_0-error:0.272727\n",
      "[140]\tvalidation_0-error:0.272727\n",
      "[141]\tvalidation_0-error:0.272727\n",
      "[142]\tvalidation_0-error:0.272727\n",
      "[143]\tvalidation_0-error:0.272727\n",
      "[144]\tvalidation_0-error:0.272727\n",
      "[145]\tvalidation_0-error:0.272727\n",
      "[146]\tvalidation_0-error:0.272727\n",
      "[147]\tvalidation_0-error:0.272727\n",
      "[148]\tvalidation_0-error:0.272727\n",
      "[149]\tvalidation_0-error:0.272727\n",
      "[150]\tvalidation_0-error:0.272727\n",
      "[151]\tvalidation_0-error:0.272727\n",
      "[152]\tvalidation_0-error:0.279221\n",
      "[153]\tvalidation_0-error:0.279221\n",
      "[154]\tvalidation_0-error:0.279221\n",
      "[155]\tvalidation_0-error:0.279221\n",
      "[156]\tvalidation_0-error:0.272727\n",
      "[157]\tvalidation_0-error:0.272727\n",
      "[158]\tvalidation_0-error:0.272727\n",
      "[159]\tvalidation_0-error:0.272727\n",
      "[160]\tvalidation_0-error:0.272727\n",
      "[161]\tvalidation_0-error:0.272727\n",
      "[162]\tvalidation_0-error:0.272727\n",
      "[163]\tvalidation_0-error:0.272727\n",
      "[164]\tvalidation_0-error:0.272727\n",
      "[165]\tvalidation_0-error:0.272727\n",
      "[166]\tvalidation_0-error:0.272727\n",
      "[167]\tvalidation_0-error:0.272727\n",
      "[168]\tvalidation_0-error:0.272727\n",
      "[169]\tvalidation_0-error:0.279221\n",
      "[170]\tvalidation_0-error:0.279221\n",
      "[171]\tvalidation_0-error:0.279221\n",
      "[172]\tvalidation_0-error:0.279221\n",
      "[173]\tvalidation_0-error:0.279221\n",
      "[174]\tvalidation_0-error:0.279221\n",
      "[175]\tvalidation_0-error:0.279221\n",
      "[176]\tvalidation_0-error:0.279221\n",
      "[177]\tvalidation_0-error:0.279221\n",
      "[178]\tvalidation_0-error:0.279221\n",
      "[179]\tvalidation_0-error:0.279221\n",
      "[180]\tvalidation_0-error:0.279221\n",
      "[181]\tvalidation_0-error:0.279221\n",
      "[182]\tvalidation_0-error:0.279221\n",
      "[183]\tvalidation_0-error:0.279221\n",
      "[184]\tvalidation_0-error:0.279221\n",
      "[185]\tvalidation_0-error:0.279221\n",
      "[186]\tvalidation_0-error:0.279221\n",
      "[187]\tvalidation_0-error:0.279221\n",
      "[188]\tvalidation_0-error:0.279221\n",
      "[189]\tvalidation_0-error:0.279221\n",
      "[190]\tvalidation_0-error:0.279221\n",
      "[191]\tvalidation_0-error:0.279221\n",
      "[192]\tvalidation_0-error:0.279221\n",
      "[193]\tvalidation_0-error:0.279221\n",
      "[194]\tvalidation_0-error:0.279221\n",
      "[195]\tvalidation_0-error:0.279221\n",
      "[196]\tvalidation_0-error:0.279221\n",
      "[197]\tvalidation_0-error:0.279221\n",
      "[198]\tvalidation_0-error:0.279221\n",
      "[199]\tvalidation_0-error:0.279221\n",
      "[200]\tvalidation_0-error:0.279221\n",
      "[201]\tvalidation_0-error:0.272727\n",
      "[202]\tvalidation_0-error:0.279221\n",
      "[203]\tvalidation_0-error:0.272727\n",
      "[204]\tvalidation_0-error:0.272727\n",
      "[205]\tvalidation_0-error:0.272727\n",
      "[206]\tvalidation_0-error:0.272727\n",
      "[207]\tvalidation_0-error:0.272727\n",
      "[208]\tvalidation_0-error:0.272727\n",
      "[209]\tvalidation_0-error:0.272727\n",
      "[210]\tvalidation_0-error:0.272727\n",
      "[211]\tvalidation_0-error:0.272727\n",
      "[212]\tvalidation_0-error:0.272727\n",
      "[213]\tvalidation_0-error:0.272727\n",
      "[214]\tvalidation_0-error:0.272727\n",
      "[215]\tvalidation_0-error:0.272727\n",
      "[216]\tvalidation_0-error:0.272727\n",
      "[217]\tvalidation_0-error:0.272727\n",
      "[218]\tvalidation_0-error:0.272727\n",
      "[219]\tvalidation_0-error:0.279221\n",
      "[220]\tvalidation_0-error:0.272727\n",
      "[221]\tvalidation_0-error:0.272727\n",
      "[222]\tvalidation_0-error:0.279221\n",
      "[223]\tvalidation_0-error:0.279221\n",
      "[224]\tvalidation_0-error:0.279221\n",
      "[225]\tvalidation_0-error:0.279221\n",
      "[226]\tvalidation_0-error:0.272727\n",
      "[227]\tvalidation_0-error:0.272727\n",
      "[228]\tvalidation_0-error:0.272727\n",
      "[229]\tvalidation_0-error:0.272727\n",
      "[230]\tvalidation_0-error:0.272727\n",
      "[231]\tvalidation_0-error:0.272727\n",
      "[232]\tvalidation_0-error:0.272727\n",
      "[233]\tvalidation_0-error:0.272727\n",
      "[234]\tvalidation_0-error:0.272727\n",
      "[235]\tvalidation_0-error:0.279221\n",
      "[236]\tvalidation_0-error:0.279221\n",
      "[237]\tvalidation_0-error:0.279221\n",
      "[238]\tvalidation_0-error:0.279221\n",
      "[239]\tvalidation_0-error:0.279221\n",
      "[240]\tvalidation_0-error:0.272727\n",
      "[241]\tvalidation_0-error:0.272727\n",
      "[242]\tvalidation_0-error:0.272727\n",
      "[243]\tvalidation_0-error:0.279221\n",
      "[244]\tvalidation_0-error:0.279221\n",
      "[245]\tvalidation_0-error:0.272727\n",
      "[246]\tvalidation_0-error:0.272727\n",
      "[247]\tvalidation_0-error:0.272727\n",
      "[248]\tvalidation_0-error:0.279221\n",
      "[249]\tvalidation_0-error:0.279221\n",
      "[250]\tvalidation_0-error:0.279221\n",
      "[251]\tvalidation_0-error:0.279221\n",
      "[252]\tvalidation_0-error:0.279221\n",
      "[253]\tvalidation_0-error:0.279221\n",
      "[254]\tvalidation_0-error:0.279221\n",
      "[255]\tvalidation_0-error:0.279221\n",
      "[256]\tvalidation_0-error:0.279221\n",
      "[257]\tvalidation_0-error:0.279221\n",
      "[258]\tvalidation_0-error:0.279221\n",
      "[259]\tvalidation_0-error:0.279221\n",
      "[260]\tvalidation_0-error:0.279221\n",
      "[261]\tvalidation_0-error:0.279221\n",
      "[262]\tvalidation_0-error:0.279221\n",
      "[263]\tvalidation_0-error:0.279221\n",
      "[264]\tvalidation_0-error:0.279221\n",
      "[265]\tvalidation_0-error:0.279221\n",
      "[266]\tvalidation_0-error:0.279221\n",
      "[267]\tvalidation_0-error:0.279221\n",
      "[268]\tvalidation_0-error:0.279221\n",
      "[269]\tvalidation_0-error:0.279221\n",
      "[270]\tvalidation_0-error:0.279221\n",
      "[271]\tvalidation_0-error:0.279221\n",
      "[272]\tvalidation_0-error:0.279221\n",
      "[273]\tvalidation_0-error:0.279221\n",
      "[274]\tvalidation_0-error:0.279221\n",
      "[275]\tvalidation_0-error:0.279221\n",
      "[276]\tvalidation_0-error:0.272727\n",
      "[277]\tvalidation_0-error:0.279221\n",
      "[278]\tvalidation_0-error:0.279221\n",
      "[279]\tvalidation_0-error:0.279221\n",
      "[280]\tvalidation_0-error:0.279221\n",
      "[281]\tvalidation_0-error:0.279221\n",
      "[282]\tvalidation_0-error:0.279221\n",
      "[283]\tvalidation_0-error:0.279221\n",
      "[284]\tvalidation_0-error:0.279221\n",
      "[285]\tvalidation_0-error:0.272727\n",
      "[286]\tvalidation_0-error:0.272727\n",
      "[287]\tvalidation_0-error:0.279221\n",
      "[288]\tvalidation_0-error:0.279221\n",
      "[289]\tvalidation_0-error:0.279221\n",
      "[290]\tvalidation_0-error:0.279221\n",
      "[291]\tvalidation_0-error:0.279221\n",
      "[292]\tvalidation_0-error:0.279221\n",
      "[293]\tvalidation_0-error:0.279221\n",
      "[294]\tvalidation_0-error:0.279221\n",
      "[295]\tvalidation_0-error:0.272727\n",
      "[296]\tvalidation_0-error:0.272727\n",
      "[297]\tvalidation_0-error:0.279221\n",
      "[298]\tvalidation_0-error:0.272727\n",
      "[299]\tvalidation_0-error:0.272727\n",
      "[300]\tvalidation_0-error:0.272727\n",
      "[301]\tvalidation_0-error:0.272727\n",
      "[302]\tvalidation_0-error:0.272727\n",
      "[303]\tvalidation_0-error:0.279221\n",
      "[304]\tvalidation_0-error:0.285714\n",
      "[305]\tvalidation_0-error:0.279221\n",
      "[306]\tvalidation_0-error:0.272727\n",
      "[307]\tvalidation_0-error:0.279221\n",
      "[308]\tvalidation_0-error:0.279221\n",
      "[309]\tvalidation_0-error:0.272727\n",
      "[310]\tvalidation_0-error:0.272727\n",
      "[311]\tvalidation_0-error:0.272727\n",
      "[312]\tvalidation_0-error:0.272727\n",
      "[313]\tvalidation_0-error:0.272727\n",
      "[314]\tvalidation_0-error:0.272727\n",
      "[315]\tvalidation_0-error:0.272727\n",
      "[316]\tvalidation_0-error:0.266234\n",
      "[317]\tvalidation_0-error:0.272727\n",
      "[318]\tvalidation_0-error:0.272727\n",
      "[319]\tvalidation_0-error:0.266234\n",
      "[320]\tvalidation_0-error:0.272727\n",
      "[321]\tvalidation_0-error:0.266234\n",
      "[322]\tvalidation_0-error:0.272727\n",
      "[323]\tvalidation_0-error:0.272727\n",
      "[324]\tvalidation_0-error:0.272727\n"
     ]
    },
    {
     "name": "stdout",
     "output_type": "stream",
     "text": [
      "[325]\tvalidation_0-error:0.272727\n",
      "[326]\tvalidation_0-error:0.272727\n",
      "[327]\tvalidation_0-error:0.272727\n",
      "[328]\tvalidation_0-error:0.266234\n",
      "[329]\tvalidation_0-error:0.266234\n",
      "[330]\tvalidation_0-error:0.266234\n",
      "[331]\tvalidation_0-error:0.266234\n",
      "[332]\tvalidation_0-error:0.266234\n",
      "[333]\tvalidation_0-error:0.266234\n",
      "[334]\tvalidation_0-error:0.266234\n",
      "[335]\tvalidation_0-error:0.266234\n",
      "[336]\tvalidation_0-error:0.266234\n",
      "[337]\tvalidation_0-error:0.272727\n",
      "[338]\tvalidation_0-error:0.272727\n",
      "[339]\tvalidation_0-error:0.272727\n",
      "[340]\tvalidation_0-error:0.272727\n",
      "[341]\tvalidation_0-error:0.272727\n",
      "[342]\tvalidation_0-error:0.272727\n",
      "[343]\tvalidation_0-error:0.272727\n",
      "[344]\tvalidation_0-error:0.272727\n",
      "[345]\tvalidation_0-error:0.272727\n",
      "[346]\tvalidation_0-error:0.272727\n",
      "[347]\tvalidation_0-error:0.272727\n",
      "[348]\tvalidation_0-error:0.272727\n",
      "[349]\tvalidation_0-error:0.272727\n",
      "[350]\tvalidation_0-error:0.272727\n",
      "[351]\tvalidation_0-error:0.272727\n",
      "[352]\tvalidation_0-error:0.272727\n",
      "[353]\tvalidation_0-error:0.272727\n",
      "[354]\tvalidation_0-error:0.272727\n",
      "[355]\tvalidation_0-error:0.272727\n",
      "[356]\tvalidation_0-error:0.272727\n",
      "[357]\tvalidation_0-error:0.266234\n",
      "[358]\tvalidation_0-error:0.266234\n",
      "[359]\tvalidation_0-error:0.272727\n",
      "[360]\tvalidation_0-error:0.266234\n",
      "[361]\tvalidation_0-error:0.266234\n",
      "[362]\tvalidation_0-error:0.266234\n",
      "[363]\tvalidation_0-error:0.266234\n",
      "[364]\tvalidation_0-error:0.266234\n",
      "[365]\tvalidation_0-error:0.266234\n",
      "[366]\tvalidation_0-error:0.266234\n",
      "[367]\tvalidation_0-error:0.272727\n",
      "[368]\tvalidation_0-error:0.272727\n",
      "[369]\tvalidation_0-error:0.279221\n",
      "[370]\tvalidation_0-error:0.279221\n",
      "[371]\tvalidation_0-error:0.272727\n",
      "[372]\tvalidation_0-error:0.272727\n",
      "[373]\tvalidation_0-error:0.272727\n",
      "[374]\tvalidation_0-error:0.279221\n",
      "[375]\tvalidation_0-error:0.279221\n",
      "[376]\tvalidation_0-error:0.279221\n",
      "[377]\tvalidation_0-error:0.279221\n",
      "[378]\tvalidation_0-error:0.279221\n",
      "[379]\tvalidation_0-error:0.279221\n",
      "[380]\tvalidation_0-error:0.279221\n",
      "[381]\tvalidation_0-error:0.279221\n",
      "[382]\tvalidation_0-error:0.279221\n",
      "[383]\tvalidation_0-error:0.279221\n",
      "[384]\tvalidation_0-error:0.279221\n",
      "[385]\tvalidation_0-error:0.279221\n",
      "[386]\tvalidation_0-error:0.279221\n",
      "[387]\tvalidation_0-error:0.279221\n",
      "[388]\tvalidation_0-error:0.272727\n",
      "[389]\tvalidation_0-error:0.272727\n",
      "[390]\tvalidation_0-error:0.272727\n",
      "[391]\tvalidation_0-error:0.272727\n",
      "[392]\tvalidation_0-error:0.272727\n",
      "[393]\tvalidation_0-error:0.272727\n",
      "[394]\tvalidation_0-error:0.272727\n",
      "[395]\tvalidation_0-error:0.272727\n",
      "[396]\tvalidation_0-error:0.272727\n",
      "[397]\tvalidation_0-error:0.272727\n",
      "[398]\tvalidation_0-error:0.272727\n",
      "[399]\tvalidation_0-error:0.272727\n",
      "[400]\tvalidation_0-error:0.272727\n",
      "[401]\tvalidation_0-error:0.272727\n",
      "[402]\tvalidation_0-error:0.272727\n",
      "[403]\tvalidation_0-error:0.266234\n",
      "[404]\tvalidation_0-error:0.266234\n",
      "[405]\tvalidation_0-error:0.272727\n",
      "[406]\tvalidation_0-error:0.279221\n",
      "[407]\tvalidation_0-error:0.279221\n",
      "[408]\tvalidation_0-error:0.279221\n",
      "[409]\tvalidation_0-error:0.279221\n",
      "[410]\tvalidation_0-error:0.279221\n",
      "[411]\tvalidation_0-error:0.279221\n",
      "[412]\tvalidation_0-error:0.279221\n",
      "[413]\tvalidation_0-error:0.279221\n",
      "[414]\tvalidation_0-error:0.266234\n",
      "[415]\tvalidation_0-error:0.272727\n",
      "[416]\tvalidation_0-error:0.279221\n",
      "[417]\tvalidation_0-error:0.272727\n",
      "[418]\tvalidation_0-error:0.272727\n",
      "[419]\tvalidation_0-error:0.272727\n",
      "[420]\tvalidation_0-error:0.272727\n",
      "[421]\tvalidation_0-error:0.272727\n",
      "[422]\tvalidation_0-error:0.266234\n",
      "[423]\tvalidation_0-error:0.272727\n",
      "[424]\tvalidation_0-error:0.266234\n",
      "[425]\tvalidation_0-error:0.272727\n",
      "[426]\tvalidation_0-error:0.272727\n",
      "[427]\tvalidation_0-error:0.272727\n",
      "[428]\tvalidation_0-error:0.272727\n",
      "[429]\tvalidation_0-error:0.272727\n",
      "[430]\tvalidation_0-error:0.266234\n",
      "[431]\tvalidation_0-error:0.266234\n",
      "[432]\tvalidation_0-error:0.266234\n",
      "[433]\tvalidation_0-error:0.266234\n",
      "[434]\tvalidation_0-error:0.266234\n",
      "[435]\tvalidation_0-error:0.266234\n",
      "[436]\tvalidation_0-error:0.266234\n",
      "[437]\tvalidation_0-error:0.266234\n",
      "[438]\tvalidation_0-error:0.266234\n",
      "[439]\tvalidation_0-error:0.266234\n",
      "[440]\tvalidation_0-error:0.266234\n",
      "[441]\tvalidation_0-error:0.266234\n",
      "[442]\tvalidation_0-error:0.266234\n",
      "[443]\tvalidation_0-error:0.266234\n",
      "[444]\tvalidation_0-error:0.266234\n",
      "[445]\tvalidation_0-error:0.266234\n",
      "[446]\tvalidation_0-error:0.266234\n",
      "[447]\tvalidation_0-error:0.25974\n",
      "[448]\tvalidation_0-error:0.25974\n",
      "[449]\tvalidation_0-error:0.25974\n",
      "[450]\tvalidation_0-error:0.25974\n",
      "[451]\tvalidation_0-error:0.25974\n",
      "[452]\tvalidation_0-error:0.25974\n",
      "[453]\tvalidation_0-error:0.25974\n",
      "[454]\tvalidation_0-error:0.25974\n",
      "[455]\tvalidation_0-error:0.266234\n",
      "[456]\tvalidation_0-error:0.266234\n",
      "[457]\tvalidation_0-error:0.266234\n",
      "[458]\tvalidation_0-error:0.266234\n",
      "[459]\tvalidation_0-error:0.266234\n",
      "[460]\tvalidation_0-error:0.266234\n",
      "[461]\tvalidation_0-error:0.25974\n",
      "[462]\tvalidation_0-error:0.25974\n",
      "[463]\tvalidation_0-error:0.266234\n",
      "[464]\tvalidation_0-error:0.266234\n",
      "[465]\tvalidation_0-error:0.266234\n",
      "[466]\tvalidation_0-error:0.25974\n",
      "[467]\tvalidation_0-error:0.25974\n",
      "[468]\tvalidation_0-error:0.266234\n",
      "[469]\tvalidation_0-error:0.266234\n",
      "[470]\tvalidation_0-error:0.266234\n",
      "[471]\tvalidation_0-error:0.25974\n",
      "[472]\tvalidation_0-error:0.25974\n",
      "[473]\tvalidation_0-error:0.25974\n",
      "[474]\tvalidation_0-error:0.25974\n",
      "[475]\tvalidation_0-error:0.25974\n",
      "[476]\tvalidation_0-error:0.25974\n",
      "[477]\tvalidation_0-error:0.25974\n",
      "[478]\tvalidation_0-error:0.25974\n",
      "[479]\tvalidation_0-error:0.25974\n",
      "[480]\tvalidation_0-error:0.25974\n",
      "[481]\tvalidation_0-error:0.25974\n",
      "[482]\tvalidation_0-error:0.25974\n",
      "[483]\tvalidation_0-error:0.25974\n",
      "[484]\tvalidation_0-error:0.25974\n",
      "[485]\tvalidation_0-error:0.25974\n",
      "[486]\tvalidation_0-error:0.25974\n",
      "[487]\tvalidation_0-error:0.25974\n",
      "[488]\tvalidation_0-error:0.25974\n",
      "[489]\tvalidation_0-error:0.25974\n",
      "[490]\tvalidation_0-error:0.25974\n",
      "[491]\tvalidation_0-error:0.253247\n",
      "[492]\tvalidation_0-error:0.253247\n",
      "[493]\tvalidation_0-error:0.25974\n",
      "[494]\tvalidation_0-error:0.25974\n",
      "[495]\tvalidation_0-error:0.253247\n",
      "[496]\tvalidation_0-error:0.25974\n",
      "[497]\tvalidation_0-error:0.253247\n",
      "[498]\tvalidation_0-error:0.253247\n",
      "[499]\tvalidation_0-error:0.25974\n"
     ]
    },
    {
     "data": {
      "text/plain": [
       "RandomizedSearchCV(cv=2, error_score='raise-deprecating',\n",
       "                   estimator=XGBClassifier(base_score=0.5, booster='gbtree',\n",
       "                                           colsample_bylevel=1,\n",
       "                                           colsample_bynode=1,\n",
       "                                           colsample_bytree=1, gamma=0,\n",
       "                                           learning_rate=0.1, max_delta_step=0,\n",
       "                                           max_depth=3, min_child_weight=1,\n",
       "                                           missing=None, n_estimators=100,\n",
       "                                           n_jobs=1, nthread=None,\n",
       "                                           objective='binary:logistic',\n",
       "                                           random_state=0, reg_alpha=0...\n",
       "                                        'gamma': [0, 0.25, 0.5, 1.0],\n",
       "                                        'learning_rate': [0.001, 0.005, 0.01,\n",
       "                                                          0.05],\n",
       "                                        'max_depth': [3, 4, 5, 6, 7, 8, 9],\n",
       "                                        'min_child_weight': [1, 2, 3, 4],\n",
       "                                        'n_estimators': [500, 700, 1000, 1500],\n",
       "                                        'reg_alpha': [0.01, 0.05, 0.1, 0.5],\n",
       "                                        'reg_lambda': [0.01, 0.05, 0.1, 0.5],\n",
       "                                        'subsample': [0.3, 0.5, 0.7, 0.9]},\n",
       "                   pre_dispatch='2*n_jobs', random_state=None, refit=True,\n",
       "                   return_train_score=False, scoring=None, verbose=1)"
      ]
     },
     "execution_count": 72,
     "metadata": {},
     "output_type": "execute_result"
    }
   ],
   "source": [
    "xgb_random.fit(train_X, train_y, eval_set=[(test_X, test_y)])"
   ]
  },
  {
   "cell_type": "code",
   "execution_count": 73,
   "metadata": {},
   "outputs": [
    {
     "data": {
      "text/plain": [
       "0.7915309446254072"
      ]
     },
     "execution_count": 73,
     "metadata": {},
     "output_type": "execute_result"
    }
   ],
   "source": [
    "xgb_random.best_score_"
   ]
  },
  {
   "cell_type": "code",
   "execution_count": 74,
   "metadata": {},
   "outputs": [
    {
     "data": {
      "text/plain": [
       "{'subsample': 0.7,\n",
       " 'reg_lambda': 0.5,\n",
       " 'reg_alpha': 0.1,\n",
       " 'n_estimators': 500,\n",
       " 'min_child_weight': 1,\n",
       " 'max_depth': 7,\n",
       " 'learning_rate': 0.01,\n",
       " 'gamma': 1.0,\n",
       " 'colsample_bytree': 0.5}"
      ]
     },
     "execution_count": 74,
     "metadata": {},
     "output_type": "execute_result"
    }
   ],
   "source": [
    "xgb_random.best_params_"
   ]
  },
  {
   "cell_type": "code",
   "execution_count": 86,
   "metadata": {},
   "outputs": [
    {
     "data": {
      "text/plain": [
       "<matplotlib.axes._subplots.AxesSubplot at 0x1924205ac50>"
      ]
     },
     "execution_count": 86,
     "metadata": {},
     "output_type": "execute_result"
    },
    {
     "data": {
      "image/png": "[encoded data removed]",
      "text/plain": [
       "<Figure size 432x288 with 1 Axes>"
      ]
     },
     "metadata": {
      "needs_background": "light"
     },
     "output_type": "display_data"
    }
   ],
   "source": [
    "pd.Series(xgb_random.best_estimator_.feature_importances_, \n",
    "          index=diabetes.drop('Outcome',axis=1).columns).nlargest(100).plot(kind='barh')"
   ]
  },
  {
   "cell_type": "code",
   "execution_count": 42,
   "metadata": {},
   "outputs": [],
   "source": [
    "pred_test_xgb = xgb_random.predict(test_X)"
   ]
  },
  {
   "cell_type": "code",
   "execution_count": 43,
   "metadata": {},
   "outputs": [
    {
     "name": "stdout",
     "output_type": "stream",
     "text": [
      "              precision    recall  f1-score   support\n",
      "\n",
      "           0       0.75      0.81      0.78       101\n",
      "           1       0.58      0.49      0.53        53\n",
      "\n",
      "    accuracy                           0.70       154\n",
      "   macro avg       0.67      0.65      0.66       154\n",
      "weighted avg       0.69      0.70      0.69       154\n",
      "\n"
     ]
    }
   ],
   "source": [
    "from sklearn.metrics import classification_report\n",
    "print(classification_report(test_y,pred_test_xgb))"
   ]
  },
  {
   "cell_type": "code",
   "execution_count": null,
   "metadata": {},
   "outputs": [],
   "source": [
    "diabetes.replace(0,np.nan,inplace=True)"
   ]
  }
 ],
 "metadata": {
  "kernelspec": {
   "display_name": "Python 3",
   "language": "python",
   "name": "python3"
  },
  "language_info": {
   "codemirror_mode": {
    "name": "ipython",
    "version": 3
   },
   "file_extension": ".py",
   "mimetype": "text/x-python",
   "name": "python",
   "nbconvert_exporter": "python",
   "pygments_lexer": "ipython3",
   "version": "3.7.6"
  }
 },
 "nbformat": 4,
 "nbformat_minor": 2
}
